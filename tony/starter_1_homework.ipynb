{
 "cells": [
  {
   "cell_type": "code",
   "execution_count": 1,
   "metadata": {},
   "outputs": [],
   "source": [
    "project_title = \"Weather Forecast Application\""
   ]
  },
  {
   "cell_type": "code",
   "execution_count": 2,
   "metadata": {},
   "outputs": [],
   "source": [
    "project_title = \"renamed_project_title\""
   ]
  },
  {
   "cell_type": "code",
   "execution_count": 3,
   "metadata": {},
   "outputs": [],
   "source": [
    "message = \"Your weather forecast\""
   ]
  },
  {
   "cell_type": "code",
   "execution_count": 4,
   "metadata": {},
   "outputs": [],
   "source": [
    "day_of_week = \"for today is:\"\n",
    "message_to_user = message + \" \" + day_of_week"
   ]
  },
  {
   "cell_type": "code",
   "execution_count": 5,
   "metadata": {},
   "outputs": [],
   "source": [
    "todays_forcast = \"Partly cloudy with a chance of thunderstorms\""
   ]
  },
  {
   "cell_type": "code",
   "execution_count": 6,
   "metadata": {},
   "outputs": [
    {
     "name": "stdout",
     "output_type": "stream",
     "text": [
      "Your weather forecast for today is: Partly cloudy with a chance of thunderstorms\n"
     ]
    }
   ],
   "source": [
    "print(message_to_user + \" \" + todays_forcast)"
   ]
  },
  {
   "cell_type": "code",
   "execution_count": 7,
   "metadata": {},
   "outputs": [],
   "source": [
    "ten_year_avg_daily_highs = 68"
   ]
  },
  {
   "cell_type": "code",
   "execution_count": 8,
   "metadata": {},
   "outputs": [],
   "source": [
    "total_number_of_days_of_weather_data = 87578"
   ]
  },
  {
   "cell_type": "code",
   "execution_count": 9,
   "metadata": {},
   "outputs": [],
   "source": [
    "todays_high = 85\n",
    "todays_low = 69\n",
    "\n",
    "# Enter your code below:\n",
    "todays_range = todays_high - todays_low"
   ]
  },
  {
   "cell_type": "code",
   "execution_count": 10,
   "metadata": {},
   "outputs": [
    {
     "name": "stdout",
     "output_type": "stream",
     "text": [
      "16\n"
     ]
    }
   ],
   "source": [
    "print(todays_range)"
   ]
  },
  {
   "cell_type": "code",
   "execution_count": 11,
   "metadata": {},
   "outputs": [
    {
     "name": "stdout",
     "output_type": "stream",
     "text": [
      "15.0\n"
     ]
    }
   ],
   "source": [
    "chance_of_precipitation = 0.15\n",
    "\n",
    "# Enter your code below:\n",
    "print(chance_of_precipitation * 100)"
   ]
  },
  {
   "cell_type": "code",
   "execution_count": 13,
   "metadata": {},
   "outputs": [
    {
     "name": "stdout",
     "output_type": "stream",
     "text": [
      "90.0\n"
     ]
    }
   ],
   "source": [
    "mondays_high = 89\n",
    "tuesdays_high = 87\n",
    "wednesdays_high = 88\n",
    "thursdays_high = 92\n",
    "fridays_high = 94\n",
    "\n",
    "# Enter your code below:\n",
    "\n",
    "list_of_temps = [mondays_high, tuesdays_high, wednesdays_high, thursdays_high, fridays_high]\n",
    "print(sum(list_of_temps) / len(list_of_temps))\n",
    "\n"
   ]
  },
  {
   "cell_type": "code",
   "execution_count": null,
   "metadata": {},
   "outputs": [],
   "source": [
    "##I dont know what this one is asking. "
   ]
  },
  {
   "cell_type": "code",
   "execution_count": null,
   "metadata": {},
   "outputs": [],
   "source": []
  },
  {
   "cell_type": "code",
   "execution_count": 14,
   "metadata": {},
   "outputs": [
    {
     "name": "stdout",
     "output_type": "stream",
     "text": [
      "Your weather forecast for today is: High of 85 Low of 69 with a 15% chance of precipitation\n"
     ]
    }
   ],
   "source": [
    "print(message_to_user + \" \" + \"High of\" + \" \" +str(todays_high) + \" \" + \"Low of\" +\" \" + str(todays_low)+ \" \" + \"with a\"+\" \" +str(int(chance_of_precipitation * 100))+\"%\" +\" chance of precipitation\")"
   ]
  },
  {
   "cell_type": "code",
   "execution_count": null,
   "metadata": {},
   "outputs": [],
   "source": []
  }
 ],
 "metadata": {
  "kernelspec": {
   "display_name": "Python 3",
   "language": "python",
   "name": "python3"
  },
  "language_info": {
   "codemirror_mode": {
    "name": "ipython",
    "version": 3
   },
   "file_extension": ".py",
   "mimetype": "text/x-python",
   "name": "python",
   "nbconvert_exporter": "python",
   "pygments_lexer": "ipython3",
   "version": "3.6.8"
  }
 },
 "nbformat": 4,
 "nbformat_minor": 2
}
